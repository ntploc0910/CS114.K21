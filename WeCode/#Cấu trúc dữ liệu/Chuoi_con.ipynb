{
  "nbformat": 4,
  "nbformat_minor": 0,
  "metadata": {
    "colab": {
      "name": "WeCode/#Cấu trúc dữ liệu/",
      "provenance": [],
      "authorship_tag": "ABX9TyNfWca+1VM+AuvDQFY4rL12",
      "include_colab_link": true
    },
    "kernelspec": {
      "name": "python3",
      "display_name": "Python 3"
    }
  },
  "cells": [
    {
      "cell_type": "markdown",
      "metadata": {
        "id": "view-in-github",
        "colab_type": "text"
      },
      "source": [
        "<a href=\"https://colab.research.google.com/github/ntploc0910/CS114.K21/blob/master/WeCode/%23C%E1%BA%A5u%20tr%C3%BAc%20d%E1%BB%AF%20li%E1%BB%87u/Chuoi_con.ipynb\" target=\"_parent\"><img src=\"https://colab.research.google.com/assets/colab-badge.svg\" alt=\"Open In Colab\"/></a>"
      ]
    },
    {
      "cell_type": "markdown",
      "metadata": {
        "id": "3Zu3Dfx5XhmP"
      },
      "source": [
        "**Bài 3: Chuỗi con Palindrome**\n",
        "\n",
        "Đề: Chuỗi Palindrome là chuỗi khi đọc từ trái sang phải hoặc phải sang trái đều giống nhau. Chẳng hạn, aba, bbaabb, abcddcba là các chuỗi palindrome, trong khi mca, tiu không phải. Nhập vào một chuỗi, hãy giúp Bình đếm số chuỗi con palindrome trong chuỗi vừa nhập. Biết chuỗi con là chuỗi có thể được tạo thành bởi một số kí tự liên tiếp từ chuỗi nhập vào. Ví dụ: ab, bcd, ej là chuỗi con của abcdejk, trong khi acde không phải.\n",
        "\n",
        "INPUT:\n",
        "\n",
        "Một chuỗi chỉ bao gồm các kí tự thường với độ dài chuỗi bé hơn 1000.\n",
        "\n",
        "OUTPUT:\n",
        "\n",
        "Số lượng chuỗi Palindrome có trong chuỗi nhập vào\n",
        "\n",
        "Code:"
      ]
    },
    {
      "cell_type": "code",
      "metadata": {
        "id": "Fw6tG9iOXv1e",
        "outputId": "f27c90ce-6436-4a05-b93e-d193ba9d9e6d",
        "colab": {
          "base_uri": "https://localhost:8080/"
        }
      },
      "source": [
        "string = input()\n",
        "output=len(string)\n",
        "\n",
        "for i in range(0,len(string)-1):\n",
        "    for j in range(i+1,len(string)):\n",
        "        if string[i:j] == string[j:i:-1]:\n",
        "            output+=1\n",
        "print(output)"
      ],
      "execution_count": 1,
      "outputs": [
        {
          "output_type": "stream",
          "text": [
            "abba\n",
            "6\n"
          ],
          "name": "stdout"
        }
      ]
    },
    {
      "cell_type": "markdown",
      "metadata": {
        "id": "V-s_hs21uV4U"
      },
      "source": [
        "\n",
        "\n"
      ]
    }
  ]
}