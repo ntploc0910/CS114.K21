{
  "nbformat": 4,
  "nbformat_minor": 0,
  "metadata": {
    "colab": {
      "name": "BTVN_DonCay.ipynb",
      "provenance": [],
      "include_colab_link": true
    },
    "kernelspec": {
      "name": "python3",
      "display_name": "Python 3"
    },
    "language_info": {
      "name": "python"
    }
  },
  "cells": [
    {
      "cell_type": "markdown",
      "metadata": {
        "id": "view-in-github",
        "colab_type": "text"
      },
      "source": [
        "<a href=\"https://colab.research.google.com/github/ntploc0910/CS114.K21/blob/master/BTVN%20c%E1%BB%A7a%20nh%C3%B3m/Nh%C3%B3m%2011%20-%20Luy%E1%BB%87n%20t%E1%BA%ADp/BTVN_DonCay.ipynb\" target=\"_parent\"><img src=\"https://colab.research.google.com/assets/colab-badge.svg\" alt=\"Open In Colab\"/></a>"
      ]
    },
    {
      "cell_type": "markdown",
      "metadata": {
        "id": "dc9bh6FtFYoe"
      },
      "source": [
        "# Đốn Cây\n",
        "- Abstraction: \n",
        "  - Cho mảng gồm n phần tử h1, h2,...,hn\n",
        "  - Output:\n",
        "    \n",
        "  Dòng thứ 1 gồm số nguyên k là số cây cần chặt\n",
        "\n",
        "  Dòng thứ 2 gồm dãy số nguyên $ c_1, c_2,...c_k$ là chỉ số cây cần cưa đổ thỏa mãn đề bài\n",
        "  - Điều kiện: \n",
        "\n",
        "      $h_i < 10^6$\n",
        "\n",
        "      $1 \\leq n \\leq 4*10^6 $\n",
        "- Pattern Recognition:\n",
        "  - Gọi F(i) là số cây cần phải đổ nhỏ nhất để các cây có chỉ số 1 … i đều đổ. \n",
        "  - Để tính F(i) cần xét 2 trường hợp: \n",
        "\n",
        "  •\tNếu ta đẩy cây i qua trái: $F(i)=min[F(j−1)+1]$ với $L[i] ≤ j ≤ i (1) $\n",
        "\n",
        "  •\tNếu cây i bị đẩy qua phải bởi cây j $F(i)=min[F(j−1)+1]$ với $1≤ j ≤ i$ và $R[j] ≥ i (2)$\n",
        "- Algorithms Design:  \n",
        "  - B1: Xây dựng mảng L[ ] với L[i] là vị trí nhỏ nhất mà bị cây i làm đổ nếu đổ về bên trái. Tương tự ta xây dựng mảng R[ ]\n",
        "\n",
        "      $L[i] = min(L[i], L[S[-1]])$\n",
        "\n",
        "      $R[i] = max(R[i], R[S[-1]])$\n",
        "  -B2: Xác định đánh dấu vị trí các cây cần cưa\n",
        "  -B3: In kết quả ra màn hình\n",
        "  \n",
        "   \n",
        "\n"
      ]
    },
    {
      "cell_type": "code",
      "metadata": {
        "id": "TGEfLM_XFSIX"
      },
      "source": [
        "from collections import deque\n",
        "\n",
        "a = list()\n",
        "L = list()\n",
        "R = list()\n",
        "dp = list()\n",
        "trace = list()\n",
        "\n",
        "\n",
        "def main():\n",
        "\tn = int(input())\n",
        "\ta = [int(x) for x in input().split()]\n",
        "\ta = [0] + a\n",
        "\tL = [i for i in range(n+1)]\n",
        "\tR = [i for i in range(n+1)]\n",
        "\tdp = [i for i in range(n+1)]\n",
        "\ttrace = [-i for i in range(n+1)]\n",
        "\tS = deque()\n",
        "\n",
        "\tfor i in range(1, n+1):\n",
        "\t\tL[i] = i\n",
        "\t\twhile len(S) and S[-1] > i - a[i]:\n",
        "\t\t\tL[i] = min(L[i], L[S[-1]])\n",
        "\t\t\tS.pop()\n",
        "\t\tS.append(i)\n",
        "\n",
        "\tS.clear()\n",
        "\n",
        "\tfor i in range(n, 0, -1):\n",
        "\t\t# print(i)\n",
        "\t\tR[i] = i\n",
        "\t\twhile len(S) and S[-1] < i + a[i]:\n",
        "\t\t\tR[i] = max(R[i], R[S[-1]])\n",
        "\t\t\tS.pop()\n",
        "\t\tS.append(i)\n",
        "\t# print(L, R)\n",
        "\tS.clear()\n",
        "\n",
        "\tfor i in range(1, n+1):\n",
        "\t\tif dp[i] > dp[L[i] - 1] + 1:\n",
        "\t\t\tdp[i] = dp[L[i] - 1] + 1\n",
        "\t\t\ttrace[i] = -L[i]\n",
        "\n",
        "\t\twhile len(S) and R[S[-1]] < i:\n",
        "\t\t\tS.pop()\n",
        "\n",
        "\t\tif len(S) and dp[i] > dp[S[-1] - 1] + 1:\n",
        "\t\t\tdp[i] = dp[S[-1] - 1] + 1\n",
        "\t\t\ttrace[i] = S[-1]\n",
        "\n",
        "\t\tif len(S) == 0 or dp[S[-1] -1] > dp[i-1]:\n",
        "\t\t\tS.append(i)\n",
        "\n",
        "\tprint(dp[n])\n",
        "\ti = n\n",
        "\twhile i :\n",
        "\t\tif trace[i] < 0:\n",
        "\t\t\tprint(-i, end=' ')\n",
        "\t\telse:\n",
        "\t\t\tprint(trace[i], end=' ')\n",
        "\t\ti = abs(trace[i]) - 1\n",
        "\n",
        "\tprint()\n",
        "\n",
        "if __name__ == '__main__':\n",
        "\tmain()\n"
      ],
      "execution_count": null,
      "outputs": []
    }
  ]
}